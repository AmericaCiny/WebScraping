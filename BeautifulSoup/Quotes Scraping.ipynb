{
 "cells": [
  {
   "cell_type": "code",
   "execution_count": 1,
   "metadata": {},
   "outputs": [],
   "source": [
    "from bs4 import BeautifulSoup\n",
    "import requests\n",
    "import time"
   ]
  },
  {
   "cell_type": "code",
   "execution_count": 2,
   "metadata": {},
   "outputs": [
    {
     "name": "stdout",
     "output_type": "stream",
     "text": [
      "<!DOCTYPE html>\n",
      "\n",
      "<html lang=\"en\">\n",
      "<head>\n",
      "<meta charset=\"utf-8\"/>\n",
      "<title>Quotes to Scrape</title>\n",
      "<link href=\"/static/bootstrap.min.css\" rel=\"stylesheet\"/>\n",
      "<link href=\"/static/main.css\" rel=\"stylesheet\"/>\n",
      "</head>\n",
      "<body>\n",
      "<div class=\"container\">\n",
      "<div class=\"row header-box\">\n",
      "<div class=\"col-md-8\">\n",
      "<h1>\n",
      "<a href=\"/\" style=\"text-decoration: none\">Quotes to Scrape</a>\n",
      "</h1>\n",
      "</div>\n",
      "<div class=\"col-md-4\">\n",
      "<p>\n",
      "<a href=\"/login\">Login</a>\n",
      "</p>\n",
      "</div>\n",
      "</div>\n",
      "<div class=\"row\">\n",
      "<div class=\"col-md-8\">\n",
      "<div class=\"quote\" itemscope=\"\" itemtype=\"http://schema.org/CreativeWork\">\n",
      "<span class=\"text\" itemprop=\"text\">“The world as we have created it is a process of our thinking. It cannot be changed without changing our thinking.”</span>\n",
      "<span>by <small class=\"author\" itemprop=\"author\">Albert Einstein</small>\n",
      "<a href=\"/author/Albert-Einstein\">(about)</a>\n",
      "</span>\n",
      "<div class=\"tags\">\n",
      "            Tags:\n",
      "            <meta class=\"keywords\" content=\"change,deep-thoughts,thinking,world\" itemprop=\"keywords\"/>\n",
      "<a class=\"tag\" href=\"/tag/change/page/1/\">change</a>\n",
      "<a class=\"tag\" href=\"/tag/deep-thoughts/page/1/\">deep-thoughts</a>\n",
      "<a class=\"tag\" href=\"/tag/thinking/page/1/\">thinking</a>\n",
      "<a class=\"tag\" href=\"/tag/world/page/1/\">world</a>\n",
      "</div>\n",
      "</div>\n",
      "<div class=\"quote\" itemscope=\"\" itemtype=\"http://schema.org/CreativeWork\">\n",
      "<span class=\"text\" itemprop=\"text\">“It is our choices, Harry, that show what we truly are, far more than our abilities.”</span>\n",
      "<span>by <small class=\"author\" itemprop=\"author\">J.K. Rowling</small>\n",
      "<a href=\"/author/J-K-Rowling\">(about)</a>\n",
      "</span>\n",
      "<div class=\"tags\">\n",
      "            Tags:\n",
      "            <meta class=\"keywords\" content=\"abilities,choices\" itemprop=\"keywords\"/>\n",
      "<a class=\"tag\" href=\"/tag/abilities/page/1/\">abilities</a>\n",
      "<a class=\"tag\" href=\"/tag/choices/page/1/\">choices</a>\n",
      "</div>\n",
      "</div>\n",
      "<div class=\"quote\" itemscope=\"\" itemtype=\"http://schema.org/CreativeWork\">\n",
      "<span class=\"text\" itemprop=\"text\">“There are only two ways to live your life. One is as though nothing is a miracle. The other is as though everything is a miracle.”</span>\n",
      "<span>by <small class=\"author\" itemprop=\"author\">Albert Einstein</small>\n",
      "<a href=\"/author/Albert-Einstein\">(about)</a>\n",
      "</span>\n",
      "<div class=\"tags\">\n",
      "            Tags:\n",
      "            <meta class=\"keywords\" content=\"inspirational,life,live,miracle,miracles\" itemprop=\"keywords\"/>\n",
      "<a class=\"tag\" href=\"/tag/inspirational/page/1/\">inspirational</a>\n",
      "<a class=\"tag\" href=\"/tag/life/page/1/\">life</a>\n",
      "<a class=\"tag\" href=\"/tag/live/page/1/\">live</a>\n",
      "<a class=\"tag\" href=\"/tag/miracle/page/1/\">miracle</a>\n",
      "<a class=\"tag\" href=\"/tag/miracles/page/1/\">miracles</a>\n",
      "</div>\n",
      "</div>\n",
      "<div class=\"quote\" itemscope=\"\" itemtype=\"http://schema.org/CreativeWork\">\n",
      "<span class=\"text\" itemprop=\"text\">“The person, be it gentleman or lady, who has not pleasure in a good novel, must be intolerably stupid.”</span>\n",
      "<span>by <small class=\"author\" itemprop=\"author\">Jane Austen</small>\n",
      "<a href=\"/author/Jane-Austen\">(about)</a>\n",
      "</span>\n",
      "<div class=\"tags\">\n",
      "            Tags:\n",
      "            <meta class=\"keywords\" content=\"aliteracy,books,classic,humor\" itemprop=\"keywords\"/>\n",
      "<a class=\"tag\" href=\"/tag/aliteracy/page/1/\">aliteracy</a>\n",
      "<a class=\"tag\" href=\"/tag/books/page/1/\">books</a>\n",
      "<a class=\"tag\" href=\"/tag/classic/page/1/\">classic</a>\n",
      "<a class=\"tag\" href=\"/tag/humor/page/1/\">humor</a>\n",
      "</div>\n",
      "</div>\n",
      "<div class=\"quote\" itemscope=\"\" itemtype=\"http://schema.org/CreativeWork\">\n",
      "<span class=\"text\" itemprop=\"text\">“Imperfection is beauty, madness is genius and it's better to be absolutely ridiculous than absolutely boring.”</span>\n",
      "<span>by <small class=\"author\" itemprop=\"author\">Marilyn Monroe</small>\n",
      "<a href=\"/author/Marilyn-Monroe\">(about)</a>\n",
      "</span>\n",
      "<div class=\"tags\">\n",
      "            Tags:\n",
      "            <meta class=\"keywords\" content=\"be-yourself,inspirational\" itemprop=\"keywords\"/>\n",
      "<a class=\"tag\" href=\"/tag/be-yourself/page/1/\">be-yourself</a>\n",
      "<a class=\"tag\" href=\"/tag/inspirational/page/1/\">inspirational</a>\n",
      "</div>\n",
      "</div>\n",
      "<div class=\"quote\" itemscope=\"\" itemtype=\"http://schema.org/CreativeWork\">\n",
      "<span class=\"text\" itemprop=\"text\">“Try not to become a man of success. Rather become a man of value.”</span>\n",
      "<span>by <small class=\"author\" itemprop=\"author\">Albert Einstein</small>\n",
      "<a href=\"/author/Albert-Einstein\">(about)</a>\n",
      "</span>\n",
      "<div class=\"tags\">\n",
      "            Tags:\n",
      "            <meta class=\"keywords\" content=\"adulthood,success,value\" itemprop=\"keywords\"/>\n",
      "<a class=\"tag\" href=\"/tag/adulthood/page/1/\">adulthood</a>\n",
      "<a class=\"tag\" href=\"/tag/success/page/1/\">success</a>\n",
      "<a class=\"tag\" href=\"/tag/value/page/1/\">value</a>\n",
      "</div>\n",
      "</div>\n",
      "<div class=\"quote\" itemscope=\"\" itemtype=\"http://schema.org/CreativeWork\">\n",
      "<span class=\"text\" itemprop=\"text\">“It is better to be hated for what you are than to be loved for what you are not.”</span>\n",
      "<span>by <small class=\"author\" itemprop=\"author\">André Gide</small>\n",
      "<a href=\"/author/Andre-Gide\">(about)</a>\n",
      "</span>\n",
      "<div class=\"tags\">\n",
      "            Tags:\n",
      "            <meta class=\"keywords\" content=\"life,love\" itemprop=\"keywords\"/>\n",
      "<a class=\"tag\" href=\"/tag/life/page/1/\">life</a>\n",
      "<a class=\"tag\" href=\"/tag/love/page/1/\">love</a>\n",
      "</div>\n",
      "</div>\n",
      "<div class=\"quote\" itemscope=\"\" itemtype=\"http://schema.org/CreativeWork\">\n",
      "<span class=\"text\" itemprop=\"text\">“I have not failed. I've just found 10,000 ways that won't work.”</span>\n",
      "<span>by <small class=\"author\" itemprop=\"author\">Thomas A. Edison</small>\n",
      "<a href=\"/author/Thomas-A-Edison\">(about)</a>\n",
      "</span>\n",
      "<div class=\"tags\">\n",
      "            Tags:\n",
      "            <meta class=\"keywords\" content=\"edison,failure,inspirational,paraphrased\" itemprop=\"keywords\"/>\n",
      "<a class=\"tag\" href=\"/tag/edison/page/1/\">edison</a>\n",
      "<a class=\"tag\" href=\"/tag/failure/page/1/\">failure</a>\n",
      "<a class=\"tag\" href=\"/tag/inspirational/page/1/\">inspirational</a>\n",
      "<a class=\"tag\" href=\"/tag/paraphrased/page/1/\">paraphrased</a>\n",
      "</div>\n",
      "</div>\n",
      "<div class=\"quote\" itemscope=\"\" itemtype=\"http://schema.org/CreativeWork\">\n",
      "<span class=\"text\" itemprop=\"text\">“A woman is like a tea bag; you never know how strong it is until it's in hot water.”</span>\n",
      "<span>by <small class=\"author\" itemprop=\"author\">Eleanor Roosevelt</small>\n",
      "<a href=\"/author/Eleanor-Roosevelt\">(about)</a>\n",
      "</span>\n",
      "<div class=\"tags\">\n",
      "            Tags:\n",
      "            <meta class=\"keywords\" content=\"misattributed-eleanor-roosevelt\" itemprop=\"keywords\"/>\n",
      "<a class=\"tag\" href=\"/tag/misattributed-eleanor-roosevelt/page/1/\">misattributed-eleanor-roosevelt</a>\n",
      "</div>\n",
      "</div>\n",
      "<div class=\"quote\" itemscope=\"\" itemtype=\"http://schema.org/CreativeWork\">\n",
      "<span class=\"text\" itemprop=\"text\">“A day without sunshine is like, you know, night.”</span>\n",
      "<span>by <small class=\"author\" itemprop=\"author\">Steve Martin</small>\n",
      "<a href=\"/author/Steve-Martin\">(about)</a>\n",
      "</span>\n",
      "<div class=\"tags\">\n",
      "            Tags:\n",
      "            <meta class=\"keywords\" content=\"humor,obvious,simile\" itemprop=\"keywords\"/>\n",
      "<a class=\"tag\" href=\"/tag/humor/page/1/\">humor</a>\n",
      "<a class=\"tag\" href=\"/tag/obvious/page/1/\">obvious</a>\n",
      "<a class=\"tag\" href=\"/tag/simile/page/1/\">simile</a>\n",
      "</div>\n",
      "</div>\n",
      "<nav>\n",
      "<ul class=\"pager\">\n",
      "<li class=\"next\">\n",
      "<a href=\"/page/2/\">Next <span aria-hidden=\"true\">→</span></a>\n",
      "</li>\n",
      "</ul>\n",
      "</nav>\n",
      "</div>\n",
      "<div class=\"col-md-4 tags-box\">\n",
      "<h2>Top Ten tags</h2>\n",
      "<span class=\"tag-item\">\n",
      "<a class=\"tag\" href=\"/tag/love/\" style=\"font-size: 28px\">love</a>\n",
      "</span>\n",
      "<span class=\"tag-item\">\n",
      "<a class=\"tag\" href=\"/tag/inspirational/\" style=\"font-size: 26px\">inspirational</a>\n",
      "</span>\n",
      "<span class=\"tag-item\">\n",
      "<a class=\"tag\" href=\"/tag/life/\" style=\"font-size: 26px\">life</a>\n",
      "</span>\n",
      "<span class=\"tag-item\">\n",
      "<a class=\"tag\" href=\"/tag/humor/\" style=\"font-size: 24px\">humor</a>\n",
      "</span>\n",
      "<span class=\"tag-item\">\n",
      "<a class=\"tag\" href=\"/tag/books/\" style=\"font-size: 22px\">books</a>\n",
      "</span>\n",
      "<span class=\"tag-item\">\n",
      "<a class=\"tag\" href=\"/tag/reading/\" style=\"font-size: 14px\">reading</a>\n",
      "</span>\n",
      "<span class=\"tag-item\">\n",
      "<a class=\"tag\" href=\"/tag/friendship/\" style=\"font-size: 10px\">friendship</a>\n",
      "</span>\n",
      "<span class=\"tag-item\">\n",
      "<a class=\"tag\" href=\"/tag/friends/\" style=\"font-size: 8px\">friends</a>\n",
      "</span>\n",
      "<span class=\"tag-item\">\n",
      "<a class=\"tag\" href=\"/tag/truth/\" style=\"font-size: 8px\">truth</a>\n",
      "</span>\n",
      "<span class=\"tag-item\">\n",
      "<a class=\"tag\" href=\"/tag/simile/\" style=\"font-size: 6px\">simile</a>\n",
      "</span>\n",
      "</div>\n",
      "</div>\n",
      "</div>\n",
      "<footer class=\"footer\">\n",
      "<div class=\"container\">\n",
      "<p class=\"text-muted\">\n",
      "                Quotes by: <a href=\"https://www.goodreads.com/quotes\">GoodReads.com</a>\n",
      "</p>\n",
      "<p class=\"copyright\">\n",
      "                Made with <span class=\"zyte\">❤</span> by <a class=\"zyte\" href=\"https://www.zyte.com\">Zyte</a>\n",
      "</p>\n",
      "</div>\n",
      "</footer>\n",
      "</body>\n",
      "</html>\n"
     ]
    }
   ],
   "source": [
    "URL = 'https://quotes.toscrape.com/'\n",
    "page = requests.get(URL)\n",
    "soup = BeautifulSoup(page.content, 'html.parser')\n",
    "print(soup)"
   ]
  },
  {
   "cell_type": "code",
   "execution_count": 5,
   "metadata": {},
   "outputs": [],
   "source": [
    "tags = soup.find_all(class_='tag-item')"
   ]
  },
  {
   "cell_type": "code",
   "execution_count": 6,
   "metadata": {},
   "outputs": [
    {
     "name": "stdout",
     "output_type": "stream",
     "text": [
      "/tag/humor/\n"
     ]
    }
   ],
   "source": [
    "if len(tags) >= 4: #Make sure there are at least 4 classes of 'tag-item'\n",
    "    fourth_tag_href = tags[3].find('a')['href']  #select the 4th one and its href\n",
    "    print(fourth_tag_href)\n",
    "else:\n",
    "    print(\"There are less than four tags available.\")"
   ]
  },
  {
   "cell_type": "code",
   "execution_count": 9,
   "metadata": {},
   "outputs": [
    {
     "data": {
      "text/plain": [
       "'https://quotes.toscrape.com/tag/humor/'"
      ]
     },
     "execution_count": 9,
     "metadata": {},
     "output_type": "execute_result"
    }
   ],
   "source": [
    "full_url = URL + fourth_tag_href.lstrip('/')\n",
    "full_url"
   ]
  },
  {
   "cell_type": "code",
   "execution_count": 35,
   "metadata": {},
   "outputs": [
    {
     "name": "stdout",
     "output_type": "stream",
     "text": [
      "/tag/humor/\n",
      "Successfully fetched the content from the fourth tag URL.\n"
     ]
    }
   ],
   "source": [
    "if len(tags) >= 4:\n",
    "    fourth_tag_href = tags[3].find('a')['href']  #select the 4th one and its href\n",
    "    print(fourth_tag_href)\n",
    "    # Delay for 10 seconds before making the second page request\n",
    "    time.sleep(10)  \n",
    "    # Follow the full URL\n",
    "    response = requests.get(full_url)\n",
    "    second_page_content = response.text\n",
    "    \n",
    "    print('Successfully fetched the content from the fourth tag URL.')\n",
    "else:\n",
    "    print(\"There are less than four tags available.\")"
   ]
  },
  {
   "cell_type": "markdown",
   "metadata": {},
   "source": [
    "## (6) \n",
    "what selection method would you use to select all quotes (including their author) in the resulting page?"
   ]
  },
  {
   "cell_type": "markdown",
   "metadata": {},
   "source": [
    "I would use a method that identifies the common HTML structure shared by all quotes. Use soup.find_all to find all quotes and authors, and print them out."
   ]
  },
  {
   "cell_type": "code",
   "execution_count": 25,
   "metadata": {},
   "outputs": [
    {
     "name": "stdout",
     "output_type": "stream",
     "text": [
      "Jane Austen: “The person, be it gentleman or lady, who has not pleasure in a good novel, must be intolerably stupid.”\n",
      "\n",
      "Steve Martin: “A day without sunshine is like, you know, night.”\n",
      "\n",
      "Garrison Keillor: “Anyone who thinks sitting in church can make you a Christian must also think that sitting in a garage can make you a car.”\n",
      "\n",
      "Jim Henson: “Beauty is in the eye of the beholder and it may be necessary from time to time to give a stupid or misinformed beholder a black eye.”\n",
      "\n",
      "Charles M. Schulz: “All you need is love. But a little chocolate now and then doesn't hurt.”\n",
      "\n",
      "Suzanne Collins: “Remember, we're madly in love, so it's all right to kiss me anytime you feel like it.”\n",
      "\n",
      "Charles Bukowski: “Some people never go crazy. What truly horrible lives they must lead.”\n",
      "\n",
      "Terry Pratchett: “The trouble with having an open mind, of course, is that people will insist on coming along and trying to put things in it.”\n",
      "\n",
      "Dr. Seuss: “Think left and think right and think low and think high. Oh, the thinks you can think up if only you try!”\n",
      "\n",
      "George Carlin: “The reason I talk to myself is because I’m the only one whose answers I accept.”\n",
      "\n",
      "Successfully fetched the content from the fourth tag URL.\n"
     ]
    }
   ],
   "source": [
    "if len(tags) >= 4:\n",
    "    fourth_tag_href = tags[3].find('a')['href']\n",
    "    full_url = URL + fourth_tag_href.lstrip('/')\n",
    "    \n",
    "    # Delay for 10 seconds before making the second page request\n",
    "    time.sleep(10)\n",
    "    \n",
    "    # Follow the full URL\n",
    "    response = requests.get(full_url)\n",
    "    second_page_content = response.content\n",
    "\n",
    "    # Parse the page content with BeautifulSoup\n",
    "    soup = BeautifulSoup(second_page_content, 'html.parser')\n",
    "\n",
    "\n",
    "    quotes = soup.find_all(class_='quote')\n",
    "\n",
    "    # Iterate over each quote container to extract the quote and the author\n",
    "    for quote in quotes:\n",
    "        quote_text = quote.find(class_='text').get_text() \n",
    "        author_name = quote.find(class_='author').get_text()\n",
    "        print(f\"{author_name}: {quote_text}\\n\")\n",
    "\n",
    "    print('Successfully fetched the content from the fourth tag URL.')\n",
    "else:\n",
    "    print(\"There are less than four tags available.\")"
   ]
  },
  {
   "cell_type": "markdown",
   "metadata": {},
   "source": [
    "## (9)  what selection method would you use to select the \"Next →\" link at the bottom of the page?\n",
    "\n"
   ]
  },
  {
   "cell_type": "markdown",
   "metadata": {},
   "source": [
    "The entire page has only 1 class = next > a, I can use 'soup.select' to find the href."
   ]
  },
  {
   "cell_type": "markdown",
   "metadata": {},
   "source": [
    "## (10) modify your code in (8) to select \"Next →\", extract it's linked URL, and follow the full URL.  Add a delay (time.sleep) of 10 seconds before executing this third page request."
   ]
  },
  {
   "cell_type": "code",
   "execution_count": 41,
   "metadata": {},
   "outputs": [
    {
     "name": "stdout",
     "output_type": "stream",
     "text": [
      "/tag/humor/page/2/\n"
     ]
    }
   ],
   "source": [
    "link = soup.select('.next > a')\n",
    "href = link[0].get('href')\n",
    "full_url2 = URL + href\n",
    "print(href)"
   ]
  },
  {
   "cell_type": "code",
   "execution_count": 42,
   "metadata": {},
   "outputs": [
    {
     "name": "stdout",
     "output_type": "stream",
     "text": [
      "<!DOCTYPE html>\n",
      "\n",
      "<html lang=\"en\">\n",
      "<head>\n",
      "<meta charset=\"utf-8\"/>\n",
      "<title>Quotes to Scrape</title>\n",
      "<link href=\"/static/bootstrap.min.css\" rel=\"stylesheet\"/>\n",
      "<link href=\"/static/main.css\" rel=\"stylesheet\"/>\n",
      "</head>\n",
      "<body>\n",
      "<div class=\"container\">\n",
      "<div class=\"row header-box\">\n",
      "<div class=\"col-md-8\">\n",
      "<h1>\n",
      "<a href=\"/\" style=\"text-decoration: none\">Quotes to Scrape</a>\n",
      "</h1>\n",
      "</div>\n",
      "<div class=\"col-md-4\">\n",
      "<p>\n",
      "<a href=\"/login\">Login</a>\n",
      "</p>\n",
      "</div>\n",
      "</div>\n",
      "<h3>Viewing tag: <a href=\"/tag/humor/page/1/\">humor</a></h3>\n",
      "<div class=\"row\">\n",
      "<div class=\"col-md-8\">\n",
      "<div class=\"quote\" itemscope=\"\" itemtype=\"http://schema.org/CreativeWork\">\n",
      "<span class=\"text\" itemprop=\"text\">“I am free of all prejudice. I hate everyone equally. ”</span>\n",
      "<span>by <small class=\"author\" itemprop=\"author\">W.C. Fields</small>\n",
      "<a href=\"/author/W-C-Fields\">(about)</a>\n",
      "</span>\n",
      "<div class=\"tags\">\n",
      "            Tags:\n",
      "            <meta class=\"keywords\" content=\"humor,sinister\" itemprop=\"keywords\"/>\n",
      "<a class=\"tag\" href=\"/tag/humor/page/1/\">humor</a>\n",
      "<a class=\"tag\" href=\"/tag/sinister/page/1/\">sinister</a>\n",
      "</div>\n",
      "</div>\n",
      "<div class=\"quote\" itemscope=\"\" itemtype=\"http://schema.org/CreativeWork\">\n",
      "<span class=\"text\" itemprop=\"text\">“A lady's imagination is very rapid; it jumps from admiration to love, from love to matrimony in a moment.”</span>\n",
      "<span>by <small class=\"author\" itemprop=\"author\">Jane Austen</small>\n",
      "<a href=\"/author/Jane-Austen\">(about)</a>\n",
      "</span>\n",
      "<div class=\"tags\">\n",
      "            Tags:\n",
      "            <meta class=\"keywords\" content=\"humor,love,romantic,women\" itemprop=\"keywords\"/>\n",
      "<a class=\"tag\" href=\"/tag/humor/page/1/\">humor</a>\n",
      "<a class=\"tag\" href=\"/tag/love/page/1/\">love</a>\n",
      "<a class=\"tag\" href=\"/tag/romantic/page/1/\">romantic</a>\n",
      "<a class=\"tag\" href=\"/tag/women/page/1/\">women</a>\n",
      "</div>\n",
      "</div>\n",
      "<nav>\n",
      "<ul class=\"pager\">\n",
      "<li class=\"previous\">\n",
      "<a href=\"/tag/humor/page/1/\"><span aria-hidden=\"true\">←</span> Previous</a>\n",
      "</li>\n",
      "</ul>\n",
      "</nav>\n",
      "</div>\n",
      "<div class=\"col-md-4 tags-box\">\n",
      "<h2>Top Ten tags</h2>\n",
      "<span class=\"tag-item\">\n",
      "<a class=\"tag\" href=\"/tag/love/\" style=\"font-size: 28px\">love</a>\n",
      "</span>\n",
      "<span class=\"tag-item\">\n",
      "<a class=\"tag\" href=\"/tag/inspirational/\" style=\"font-size: 26px\">inspirational</a>\n",
      "</span>\n",
      "<span class=\"tag-item\">\n",
      "<a class=\"tag\" href=\"/tag/life/\" style=\"font-size: 26px\">life</a>\n",
      "</span>\n",
      "<span class=\"tag-item\">\n",
      "<a class=\"tag\" href=\"/tag/humor/\" style=\"font-size: 24px\">humor</a>\n",
      "</span>\n",
      "<span class=\"tag-item\">\n",
      "<a class=\"tag\" href=\"/tag/books/\" style=\"font-size: 22px\">books</a>\n",
      "</span>\n",
      "<span class=\"tag-item\">\n",
      "<a class=\"tag\" href=\"/tag/reading/\" style=\"font-size: 14px\">reading</a>\n",
      "</span>\n",
      "<span class=\"tag-item\">\n",
      "<a class=\"tag\" href=\"/tag/friendship/\" style=\"font-size: 10px\">friendship</a>\n",
      "</span>\n",
      "<span class=\"tag-item\">\n",
      "<a class=\"tag\" href=\"/tag/friends/\" style=\"font-size: 8px\">friends</a>\n",
      "</span>\n",
      "<span class=\"tag-item\">\n",
      "<a class=\"tag\" href=\"/tag/truth/\" style=\"font-size: 8px\">truth</a>\n",
      "</span>\n",
      "<span class=\"tag-item\">\n",
      "<a class=\"tag\" href=\"/tag/simile/\" style=\"font-size: 6px\">simile</a>\n",
      "</span>\n",
      "</div>\n",
      "</div>\n",
      "</div>\n",
      "<footer class=\"footer\">\n",
      "<div class=\"container\">\n",
      "<p class=\"text-muted\">\n",
      "                Quotes by: <a href=\"https://www.goodreads.com/quotes\">GoodReads.com</a>\n",
      "</p>\n",
      "<p class=\"copyright\">\n",
      "                Made with <span class=\"zyte\">❤</span> by <a class=\"zyte\" href=\"https://www.zyte.com\">Zyte</a>\n",
      "</p>\n",
      "</div>\n",
      "</footer>\n",
      "</body>\n",
      "</html>\n"
     ]
    }
   ],
   "source": [
    "time.sleep(10) # Add a 10-seconds delay\n",
    "soup_next = BeautifulSoup(requests.get(full_url2).content, 'html.parser')\n",
    "print(soup_next)"
   ]
  },
  {
   "cell_type": "markdown",
   "metadata": {},
   "source": [
    "## (11) print all quotes of the resulting page similar to (8)."
   ]
  },
  {
   "cell_type": "code",
   "execution_count": 47,
   "metadata": {},
   "outputs": [
    {
     "name": "stdout",
     "output_type": "stream",
     "text": [
      "W.C. Fields: “I am free of all prejudice. I hate everyone equally. ”\n",
      "\n",
      "Jane Austen: “A lady's imagination is very rapid; it jumps from admiration to love, from love to matrimony in a moment.”\n",
      "\n"
     ]
    }
   ],
   "source": [
    "quote_next = soup_next.select('div.quote')\n",
    "for quote in quote_next:\n",
    "        quote_text2 = quote.find(class_='text').get_text() \n",
    "        author_name2 = quote.find(class_='author').get_text()\n",
    "        print(f\"{author_name2}: {quote_text2}\\n\")"
   ]
  },
  {
   "cell_type": "code",
   "execution_count": null,
   "metadata": {},
   "outputs": [],
   "source": []
  }
 ],
 "metadata": {
  "kernelspec": {
   "display_name": "Python 3",
   "language": "python",
   "name": "python3"
  },
  "language_info": {
   "codemirror_mode": {
    "name": "ipython",
    "version": 3
   },
   "file_extension": ".py",
   "mimetype": "text/x-python",
   "name": "python",
   "nbconvert_exporter": "python",
   "pygments_lexer": "ipython3",
   "version": "3.8.5"
  }
 },
 "nbformat": 4,
 "nbformat_minor": 4
}
